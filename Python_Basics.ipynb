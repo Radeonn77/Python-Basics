{
  "nbformat": 4,
  "nbformat_minor": 0,
  "metadata": {
    "colab": {
      "provenance": []
    },
    "kernelspec": {
      "name": "python3",
      "display_name": "Python 3"
    },
    "language_info": {
      "name": "python"
    }
  },
  "cells": [
    {
      "cell_type": "code",
      "execution_count": null,
      "metadata": {
        "id": "F-_MqRFkJlrS"
      },
      "outputs": [],
      "source": []
    },
    {
      "cell_type": "markdown",
      "source": [
        "# Python Basics\n"
      ],
      "metadata": {
        "id": "g-rGsTj5LanW"
      }
    },
    {
      "cell_type": "markdown",
      "source": [
        "1. What is Python, and why is it popular?\n",
        "  - Python is a high-level, interpreted programming language known for its\n",
        "    simple syntax and readability. It's popular because of its versatility, extensive libraries, strong community support, ease of learning, and broad application areas including web development, data science, artificial intelligence, automation, and scientific computing."
      ],
      "metadata": {
        "id": "tM284M_zQCtK"
      }
    },
    {
      "cell_type": "markdown",
      "source": [],
      "metadata": {
        "id": "e37gQ4GDSdxQ"
      }
    },
    {
      "cell_type": "markdown",
      "source": [
        "2. What is an interpreter in Python?\n",
        "   - The Python interpreter is a program that executes Python code line by line. Unlike compiled languages that convert the entire program to machine code before execution, Python's interpreter translates each statement into machine code at runtime, allowing for immediate execution and feedback."
      ],
      "metadata": {
        "id": "GWHujPilTp3x"
      }
    },
    {
      "cell_type": "markdown",
      "source": [
        "3. What are pre-defined keywords in Python?\n",
        "  - Keywords are reserved words in Python that have special meanings and cannot be used as variable names. Examples include if, else, for, while, def, class, import, try, except, etc."
      ],
      "metadata": {
        "id": "kHVKumV6Tp0P"
      }
    },
    {
      "cell_type": "markdown",
      "source": [
        "4. Can keywords be used as variable names?\n",
        "    - No, keywords cannot be used as variable names in Python. This is because keywords are reserved for specific functions in the language syntax, and using them as variable names would create ambiguity."
      ],
      "metadata": {
        "id": "YYdtCnamTpmO"
      }
    },
    {
      "cell_type": "markdown",
      "source": [
        "5. What is mutability in Python?\n",
        "  - Mutability refers to whether an object can be changed after it's created. Mutable objects (like lists, dictionaries, and sets) can be modified after creation, while immutable objects (like numbers, strings, and tuples) cannot be changed once created."
      ],
      "metadata": {
        "id": "2RblAw-zTpBM"
      }
    },
    {
      "cell_type": "markdown",
      "source": [
        "6. Why are lists mutable, but tuples are immutable?\n",
        "  - Lists are designed to be flexible collections that can be modified throughout program execution. Tuples, however, are designed to store collections of data that should not change - such as database records or coordinates. This immutability makes tuples slightly more memory-efficient and allows them to be used as dictionary keys (which lists cannot)."
      ],
      "metadata": {
        "id": "ISMokIaRVF7F"
      }
    },
    {
      "cell_type": "markdown",
      "source": [
        "7. What is the difference between \"==\" and \"is\" operators in Python?\n",
        "\n",
        "  - == checks if two objects have the same value (content equality)\n",
        "  is checks if two references point to the same object in memory (identity equality)"
      ],
      "metadata": {
        "id": "OdfV_4dXVGZE"
      }
    },
    {
      "cell_type": "markdown",
      "source": [
        "8. What are logical operators in Python?\n",
        " - Python has three logical operators:\n",
        "\n",
        "  1. and: Returns True if both statements are true\n",
        "  2. or: Returns True if one of the statements is true\n",
        "  3. not: Reverses the result, returns False if the result is true"
      ],
      "metadata": {
        "id": "4pq4Iz1DVGcL"
      }
    },
    {
      "cell_type": "markdown",
      "source": [
        "9. What is type casting in Python?\n",
        " - Type casting is the process of converting a value from one data type to\n",
        "   another. Python provides built-in functions like int(), float(), str(), list(), tuple(), etc., to perform type casting."
      ],
      "metadata": {
        "id": "InByZ31IVGfH"
      }
    },
    {
      "cell_type": "markdown",
      "source": [
        "10. What is the difference between implicit and explicit type casting?\n",
        "\n",
        " - Implicit type casting (coercion): Python automatically converts one\n",
        "   data type to another when needed, like converting an integer to a float during division.\n",
        "   Explicit type casting: The programmer manually converts one data type to another using conversion functions like int(), float(), etc."
      ],
      "metadata": {
        "id": "2U4s94W4VGjP"
      }
    },
    {
      "cell_type": "markdown",
      "source": [
        "11. What is the purpose of conditional statements in Python?\n",
        "- Conditional statements allow a program to execute different blocks of\n",
        "  code based on whether certain conditions are true or false. They control the flow of execution in a program, enabling decision-making capabilities.\n",
        "<br><br>\n",
        "\n",
        "12. How does the elif statement work?\n",
        " - The elif (else if) statement allows checking multiple conditions in\n",
        "   sequence. If the initial if condition is False, Python checks each elif condition in order. If an elif condition evaluates to True, its code block executes and the remaining conditions are skipped. If none of the conditions are True, the else block (if present) executes.\n",
        "<br><br>\n",
        "\n",
        "13. What is the difference between for and while loops?\n",
        "\n",
        " - for loops iterate over a sequence (like list, tuple, string) for a\n",
        "  predefined number of iterations.\n",
        " - while loops continue execution as long as a condition remains True, with potentially unknown number of iterations.\n",
        "<br><br>\n",
        "\n",
        "14. Describe a scenario where a while loop is more suitable than a for loop.\n",
        " - A while loop is more suitable when the number of iterations is not\n",
        "   known in advance. For example, when validating user input until they provide a valid value, when processing data until a specific condition is met (like reading file contents until the end of file), or when implementing game loops that continue until the player quits."
      ],
      "metadata": {
        "id": "3WlZFlsUVGmJ"
      }
    },
    {
      "cell_type": "code",
      "source": [
        "# 1. Write a Python program to print \"Hello, World!\"\n",
        "\"\"\"\n",
        "print(\"Hello, World!\")\n",
        "\"\"\"\n",
        "# 2. Write a Python program that displays your name and age\n",
        "\"\"\"\n",
        "name = \"John Doe\"\n",
        "age = 30\n",
        "print(f\"My name is {name} and I am {age} years old.\")\n",
        "\"\"\"\n",
        "#3. Write code to print all the pre-defined keywords in Python using the keyword library\n",
        "\"\"\"\n",
        "import keyword\n",
        "print(\"Python Keywords:\")\n",
        "for kw in keyword.kwlist:\n",
        "    print(kw)\n",
        "    \"\"\"\n",
        "#4. Write a program that checks if a given word is a Python keyword\n",
        "\"\"\"\n",
        "import keyword\n",
        "\n",
        "word = input(\"Enter a word to check: \")\n",
        "if keyword.iskeyword(word):\n",
        "    print(f\"{word} is a Python keyword\")\n",
        "else:\n",
        "    print(f\"{word} is not a Python keyword\")\n",
        "    \"\"\"\n",
        "#5. Write a function to demonstrate the behavior of mutable and immutable arguments\n",
        "\"\"\"\n",
        "def demonstrate_mutability(immutable_arg, mutable_arg):\n",
        "\n",
        "    try:\n",
        "        immutable_arg[0] = 'X'\n",
        "    except TypeError:\n",
        "        print(\"Immutable objects cannot be modified\")\n",
        "\n",
        "\n",
        "    mutable_arg.append(\"new item\")\n",
        "    print(f\"Mutable object modified to: {mutable_arg}\")\n",
        "\n",
        "\n",
        "string_arg = \"hello\"\n",
        "list_arg = [1, 2, 3]\n",
        "\n",
        "print(f\"Before: immutable={string_arg}, mutable={list_arg}\")\n",
        "demonstrate_mutability(string_arg, list_arg)\n",
        "print(f\"After: immutable={string_arg}, mutable={list_arg}\")\n",
        "\"\"\"\n",
        "#6. Write a program that performs basic arithmetic operations on two user-input numbers\n",
        "\"\"\"\n",
        "num1 = float(input(\"Enter first number: \"))\n",
        "num2 = float(input(\"Enter second number: \"))\n",
        "\n",
        "print(f\"Addition: {num1} + {num2} = {num1 + num2}\")\n",
        "print(f\"Subtraction: {num1} - {num2} = {num1 - num2}\")\n",
        "print(f\"Multiplication: {num1} * {num2} = {num1 * num2}\")\n",
        "if num2 != 0:\n",
        "    print(f\"Division: {num1} / {num2} = {num1 / num2}\")\n",
        "else:\n",
        "    print(\"Division by zero is not allowed\")\n",
        "    \"\"\"\n",
        "#7. Write a program to demonstrate the use of logical operators\n",
        "\"\"\"\n",
        "age = int(input(\"Enter your age: \"))\n",
        "has_id = input(\"Do you have ID? (yes/no): \").lower() == \"yes\"\n",
        "\n",
        "if age >= 18 and has_id:\n",
        "    print(\"You can enter the venue.\")\n",
        "elif age >= 18 and not has_id:\n",
        "    print(\"You need to show ID to enter.\")\n",
        "elif age < 18 or not has_id:\n",
        "    print(\"You cannot enter the venue.\")\n",
        "\n",
        "is_weekend = input(\"Is it weekend? (yes/no): \").lower() == \"yes\"\n",
        "is_holiday = input(\"Is it a holiday? (yes/no): \").lower() == \"yes\"\n",
        "\n",
        "if is_weekend or is_holiday:\n",
        "    print(\"The venue is open late.\")\n",
        "else:\n",
        "    print(\"The venue closes early.\")\n",
        "    \"\"\"\n",
        "#8. Create a list and tuple in Python, and demonstrate how attempting to change an element works differently for each\n",
        "\"\"\"\n",
        "my_list = [1, 2, 3, 4, 5]\n",
        "my_tuple = (1, 2, 3, 4, 5)\n",
        "\n",
        "print(\"Original list:\", my_list)\n",
        "print(\"Original tuple:\", my_tuple)\n",
        "\n",
        "my_list[2] = 99\n",
        "print(\"Modified list:\", my_list)\n",
        "\n",
        "\n",
        "try:\n",
        "    my_tuple[2] = 99\n",
        "    print(\"Modified tuple:\", my_tuple)\n",
        "except TypeError as e:\n",
        "    print(f\"Error when modifying tuple: {e}\")\n",
        "#9. Write a Python program to convert user input from string to integer, float, and boolean types\n",
        "pythonuser_input = input(\"Enter a value: \")\n",
        "\n",
        "\n",
        "try:\n",
        "    int_value = int(user_input)\n",
        "    print(f\"Integer value: {int_value}, Type: {type(int_value)}\")\n",
        "except ValueError:\n",
        "    print(\"Cannot convert to integer\")\n",
        "\n",
        "\n",
        "try:\n",
        "    float_value = float(user_input)\n",
        "    print(f\"Float value: {float_value}, Type: {type(float_value)}\")\n",
        "except ValueError:\n",
        "    print(\"Cannot convert to float\")\n",
        "\n",
        "\n",
        "if user_input.lower() == \"true\":\n",
        "    bool_value = True\n",
        "elif user_input.lower() == \"false\":\n",
        "    bool_value = False\n",
        "else:\n",
        "    bool_value = bool(user_input)\n",
        "print(f\"Boolean value: {bool_value}, Type: {type(bool_value)}\")\n",
        "\"\"\"\n",
        "#10. Write code to demonstrate type casting with list elements\n",
        "\"\"\"\n",
        "mixed_list = [\"42\", \"3.14\", \"True\", \"100\"]\n",
        "print(\"Original list:\", mixed_list)\n",
        "\n",
        "\n",
        "int_list = []\n",
        "for item in mixed_list:\n",
        "    try:\n",
        "        int_list.append(int(item))\n",
        "    except ValueError:\n",
        "        print(f\"Cannot convert '{item}' to integer, skipping...\")\n",
        "\n",
        "print(\"Integer list:\", int_list)\n",
        "\n",
        "\n",
        "float_list = [float(item) for item in mixed_list if item.replace(\".\", \"\", 1).isdigit()]\n",
        "print(\"Float list:\", float_list)\n",
        "\n",
        "\n",
        "bool_list = [item.lower() == \"true\" or bool(item) for item in mixed_list]\n",
        "print(\"Boolean list:\", bool_list)\n",
        "\"\"\"\n",
        "#11. Write a program that checks if a number is positive, negative, or zero\n",
        "\"\"\"\n",
        "number = float(input(\"Enter a number: \"))\n",
        "\n",
        "if number > 0:\n",
        "    print(f\"{number} is positive\")\n",
        "elif number < 0:\n",
        "    print(f\"{number} is negative\")\n",
        "else:\n",
        "    print(\"The number is zero\")\n",
        "    \"\"\"\n",
        "#12. Write a for loop to print numbers from 1 to 10\n",
        "\"\"\"\n",
        "print(\"Numbers from 1 to 10:\")\n",
        "for i in range(1, 11):\n",
        "    print(i, end=\" \")\n",
        "print()  # Add a newline at the end\n",
        "\"\"\"\n",
        "#13. Write a Python program to find the sum of all even numbers between 1 and 50\n",
        "\"\"\"\n",
        "sum_even = 0\n",
        "for num in range(2, 51, 2):  # Start at 2, end at 50, step by 2\n",
        "    sum_even += num\n",
        "\n",
        "print(f\"The sum of all even numbers between 1 and 50 is: {sum_even}\")\n",
        "\n",
        "\n",
        "sum_even_alt = sum([num for num in range(1, 51) if num % 2 == 0])\n",
        "print(f\"Verified result using alternative method: {sum_even_alt}\")\n",
        "\"\"\"\n",
        "#14. Write a program to reverse a string using a while loop\n",
        "\"\"\"\n",
        "input_string = input(\"Enter a string to reverse: \")\n",
        "reversed_string = \"\"\n",
        "index = len(input_string) - 1\n",
        "\n",
        "while index >= 0:\n",
        "    reversed_string += input_string[index]\n",
        "    index -= 1\n",
        "\n",
        "print(f\"Original string: {input_string}\")\n",
        "print(f\"Reversed string: {reversed_string}\")\n",
        "\"\"\"\n",
        "#15. Write a Python program to calculate the factorial of a number provided by the user using a while loop\n",
        "\"\"\"\n",
        "number = int(input(\"Enter a non-negative integer: \"))\n",
        "\n",
        "if number < 0:\n",
        "    print(\"Factorial is not defined for negative numbers\")\n",
        "else:\n",
        "    factorial = 1\n",
        "    counter = number\n",
        "\n",
        "    while counter > 0:\n",
        "        factorial *= counter\n",
        "        counter -= 1\n",
        "\n",
        "    print(f\"The factorial of {number} is: {factorial}\")\n",
        "    \"\"\""
      ],
      "metadata": {
        "colab": {
          "base_uri": "https://localhost:8080/",
          "height": 70
        },
        "id": "Uot5VomBcSWC",
        "outputId": "136aa37d-6cdb-4dbc-95dc-7424ab50ec1d"
      },
      "execution_count": 2,
      "outputs": [
        {
          "output_type": "execute_result",
          "data": {
            "text/plain": [
              "'\\nnumber = int(input(\"Enter a non-negative integer: \"))\\n\\nif number < 0:\\n    print(\"Factorial is not defined for negative numbers\")\\nelse:\\n    factorial = 1\\n    counter = number\\n    \\n    while counter > 0:\\n        factorial *= counter\\n        counter -= 1\\n    \\n    print(f\"The factorial of {number} is: {factorial}\")\\n    '"
            ],
            "application/vnd.google.colaboratory.intrinsic+json": {
              "type": "string"
            }
          },
          "metadata": {},
          "execution_count": 2
        }
      ]
    },
    {
      "cell_type": "code",
      "source": [],
      "metadata": {
        "id": "VZf6_g8OcSS4"
      },
      "execution_count": null,
      "outputs": []
    },
    {
      "cell_type": "code",
      "source": [],
      "metadata": {
        "id": "8WXqVkd-cSQH"
      },
      "execution_count": null,
      "outputs": []
    },
    {
      "cell_type": "code",
      "source": [],
      "metadata": {
        "id": "EG5qZ9BZcR8T"
      },
      "execution_count": null,
      "outputs": []
    },
    {
      "cell_type": "code",
      "source": [],
      "metadata": {
        "id": "kp5PVVR8cR5c"
      },
      "execution_count": null,
      "outputs": []
    },
    {
      "cell_type": "code",
      "source": [],
      "metadata": {
        "id": "rA1cxdsNcR2E"
      },
      "execution_count": null,
      "outputs": []
    },
    {
      "cell_type": "code",
      "source": [],
      "metadata": {
        "id": "ooy96FA7cRzN"
      },
      "execution_count": null,
      "outputs": []
    },
    {
      "cell_type": "code",
      "source": [],
      "metadata": {
        "id": "Z045OIDxcRjp"
      },
      "execution_count": null,
      "outputs": []
    },
    {
      "cell_type": "code",
      "source": [],
      "metadata": {
        "id": "vQh1SIqLcQnG"
      },
      "execution_count": null,
      "outputs": []
    },
    {
      "cell_type": "code",
      "source": [],
      "metadata": {
        "id": "QlGu0TVcZrjI"
      },
      "execution_count": null,
      "outputs": []
    }
  ]
}